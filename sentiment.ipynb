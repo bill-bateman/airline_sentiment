{
 "metadata": {
  "language_info": {
   "codemirror_mode": {
    "name": "ipython",
    "version": 3
   },
   "file_extension": ".py",
   "mimetype": "text/x-python",
   "name": "python",
   "nbconvert_exporter": "python",
   "pygments_lexer": "ipython3",
   "version": "3.8.5"
  },
  "orig_nbformat": 2,
  "kernelspec": {
   "name": "python385jvsc74a57bd031f2aee4e71d21fbe5cf8b01ff0e069b9275f58929596ceb00d14d90e3e16cd6",
   "display_name": "Python 3.8.5 64-bit"
  },
  "metadata": {
   "interpreter": {
    "hash": "31f2aee4e71d21fbe5cf8b01ff0e069b9275f58929596ceb00d14d90e3e16cd6"
   }
  }
 },
 "nbformat": 4,
 "nbformat_minor": 2,
 "cells": [
  {
   "cell_type": "code",
   "execution_count": 31,
   "metadata": {},
   "outputs": [],
   "source": [
    "#imports\n",
    "import pandas as pd"
   ]
  },
  {
   "cell_type": "code",
   "execution_count": 55,
   "metadata": {},
   "outputs": [],
   "source": [
    "from collections import defaultdict\n",
    "import collections"
   ]
  },
  {
   "cell_type": "code",
   "execution_count": 142,
   "metadata": {},
   "outputs": [],
   "source": [
    "#tensorflow imports\n",
    "import tensorflow as tf\n",
    "from tensorflow.keras import Sequential\n",
    "from tensorflow.keras.preprocessing.text import Tokenizer\n",
    "from tensorflow.keras.preprocessing.sequence import pad_sequences\n",
    "import tensorflow.keras.layers as layers"
   ]
  },
  {
   "cell_type": "code",
   "execution_count": 91,
   "metadata": {},
   "outputs": [],
   "source": [
    "from sklearn.model_selection import KFold"
   ]
  },
  {
   "cell_type": "code",
   "execution_count": 23,
   "metadata": {},
   "outputs": [],
   "source": [
    "def load_full_data(filename=\"Tweets.csv\"):\n",
    "    df = pd.read_csv(filename)\n",
    "    df = df[['text', 'airline_sentiment', 'airline_sentiment_confidence']]\n",
    "    return df"
   ]
  },
  {
   "cell_type": "code",
   "execution_count": 24,
   "metadata": {},
   "outputs": [],
   "source": [
    "def transform_sentiment(arr):\n",
    "    def stoi(s):\n",
    "        if s=='neutral':\n",
    "            return 0\n",
    "        if s=='positive':\n",
    "            return 1\n",
    "        if s=='negative':\n",
    "            return 2\n",
    "        print(\"Unknown sentiment \" + s)\n",
    "        return 0\n",
    "    return [stoi(s) for s in arr]"
   ]
  },
  {
   "cell_type": "code",
   "execution_count": 25,
   "metadata": {},
   "outputs": [],
   "source": [
    "df = load_full_data()"
   ]
  },
  {
   "cell_type": "code",
   "execution_count": 44,
   "metadata": {},
   "outputs": [],
   "source": [
    "def clean_text(input):\n",
    "    words = input.split()\n",
    "    words = [w for w in words if not w.startswith('@')]\n",
    "    return ' '.join(words)"
   ]
  },
  {
   "cell_type": "code",
   "execution_count": 45,
   "metadata": {},
   "outputs": [],
   "source": [
    "df.text = df.text.apply(clean_text)"
   ]
  },
  {
   "cell_type": "code",
   "execution_count": 83,
   "metadata": {},
   "outputs": [],
   "source": [
    "num_per_label = min(df.groupby(['airline_sentiment']).count().text)\n",
    "\n",
    "pos = df[df['airline_sentiment']=='positive'].sort_values(by=['airline_sentiment_confidence'], ascending=False).head(num_per_label)\n",
    "neu = df[df['airline_sentiment']=='neutral'].sort_values(by=['airline_sentiment_confidence'], ascending=False).head(num_per_label)\n",
    "neg = df[df['airline_sentiment']=='negative'].sort_values(by=['airline_sentiment_confidence'], ascending=False).head(num_per_label)\n",
    "\n",
    "df = pd.concat([pos, neu, neg])"
   ]
  },
  {
   "cell_type": "code",
   "execution_count": 86,
   "metadata": {},
   "outputs": [
    {
     "output_type": "stream",
     "name": "stdout",
     "text": [
      "Num words: 17646\nNum words that appear more than once: 5874\n"
     ]
    }
   ],
   "source": [
    "words = defaultdict(int)\n",
    "for t in df.text:\n",
    "    for w in t.split():\n",
    "        words[w]+=1\n",
    "print(f\"Num words: {len(words)}\")\n",
    "print(f\"Num words that appear more than once: {len([w for w in words if words[w]>1])}\")"
   ]
  },
  {
   "cell_type": "code",
   "execution_count": 89,
   "metadata": {},
   "outputs": [],
   "source": [
    "tk = Tokenizer(num_words=len([w for w in words if words[w]>1]))\n",
    "tk.fit_on_texts(df.text)"
   ]
  },
  {
   "cell_type": "code",
   "execution_count": 90,
   "metadata": {},
   "outputs": [
    {
     "output_type": "execute_result",
     "data": {
      "text/plain": [
       "[('to', 3858),\n",
       " ('the', 2691),\n",
       " ('i', 2380),\n",
       " ('you', 2029),\n",
       " ('a', 1934),\n",
       " ('for', 1907),\n",
       " ('on', 1696),\n",
       " ('flight', 1681),\n",
       " ('and', 1548),\n",
       " ('my', 1390)]"
      ]
     },
     "metadata": {},
     "execution_count": 90
    }
   ],
   "source": [
    "collections.Counter(tk.word_counts).most_common(10)"
   ]
  },
  {
   "cell_type": "code",
   "execution_count": 145,
   "metadata": {},
   "outputs": [],
   "source": [
    "text = list(df.text)\n",
    "X = tk.texts_to_sequences(text)\n",
    "Y = transform_sentiment(list(df.airline_sentiment))\n",
    "Y = tf.keras.utils.to_categorical(Y)\n",
    "\n",
    "X = pad_sequences(X)"
   ]
  },
  {
   "cell_type": "code",
   "execution_count": 157,
   "metadata": {},
   "outputs": [],
   "source": [
    "X = tf.convert_to_tensor(X)\n",
    "Y = tf.convert_to_tensor(Y)"
   ]
  },
  {
   "cell_type": "code",
   "execution_count": 178,
   "metadata": {},
   "outputs": [],
   "source": [
    "model = Sequential()\n",
    "\n",
    "model.add(layers.Embedding(input_dim=tk.num_words, output_dim=64, input_length=len(X[0])))\n",
    "model.add(layers.LSTM(32))\n",
    "model.add(layers.Dense(3))\n",
    "model.add(layers.Softmax())\n",
    "\n",
    "model.compile(loss='categorical_crossentropy', optimizer='adam', metrics=[\"AUC\"])"
   ]
  },
  {
   "cell_type": "code",
   "execution_count": 179,
   "metadata": {},
   "outputs": [
    {
     "output_type": "stream",
     "name": "stdout",
     "text": [
      "Model: \"sequential_10\"\n_________________________________________________________________\nLayer (type)                 Output Shape              Param #   \n=================================================================\nembedding_4 (Embedding)      (None, 33, 64)            375936    \n_________________________________________________________________\nlstm_13 (LSTM)               (None, 32)                12416     \n_________________________________________________________________\ndense_4 (Dense)              (None, 3)                 99        \n_________________________________________________________________\nsoftmax_4 (Softmax)          (None, 3)                 0         \n=================================================================\nTotal params: 388,451\nTrainable params: 388,451\nNon-trainable params: 0\n_________________________________________________________________\n"
     ]
    }
   ],
   "source": [
    "model.summary()"
   ]
  },
  {
   "cell_type": "code",
   "execution_count": 180,
   "metadata": {},
   "outputs": [
    {
     "output_type": "stream",
     "name": "stdout",
     "text": [
      "Epoch 1/10\n",
      "56/56 [==============================] - 2s 13ms/step - loss: 1.0124 - auc: 0.6836\n",
      "Epoch 2/10\n",
      "56/56 [==============================] - 1s 13ms/step - loss: 0.6702 - auc: 0.8865\n",
      "Epoch 3/10\n",
      "56/56 [==============================] - 1s 13ms/step - loss: 0.3919 - auc: 0.9599\n",
      "Epoch 4/10\n",
      "56/56 [==============================] - 1s 13ms/step - loss: 0.2778 - auc: 0.9790\n",
      "Epoch 5/10\n",
      "56/56 [==============================] - 1s 13ms/step - loss: 0.2148 - auc: 0.9865\n",
      "Epoch 6/10\n",
      "56/56 [==============================] - 1s 13ms/step - loss: 0.1676 - auc: 0.9910\n",
      "Epoch 7/10\n",
      "56/56 [==============================] - 1s 13ms/step - loss: 0.1400 - auc: 0.9934\n",
      "Epoch 8/10\n",
      "56/56 [==============================] - 1s 13ms/step - loss: 0.1115 - auc: 0.9955\n",
      "Epoch 9/10\n",
      "56/56 [==============================] - 1s 13ms/step - loss: 0.0931 - auc: 0.9964\n",
      "Epoch 10/10\n",
      "56/56 [==============================] - 1s 13ms/step - loss: 0.0799 - auc: 0.9973\n"
     ]
    },
    {
     "output_type": "execute_result",
     "data": {
      "text/plain": [
       "<tensorflow.python.keras.callbacks.History at 0x7fa4b2cf1220>"
      ]
     },
     "metadata": {},
     "execution_count": 180
    }
   ],
   "source": [
    "model.fit(x=X, y=Y, batch_size=128, epochs=10)"
   ]
  },
  {
   "cell_type": "code",
   "execution_count": 181,
   "metadata": {},
   "outputs": [
    {
     "output_type": "execute_result",
     "data": {
      "text/plain": [
       "array([[2.8830732e-04, 9.9965286e-01, 5.8848324e-05],\n",
       "       [3.7291026e-04, 9.9956983e-01, 5.7208097e-05],\n",
       "       [2.7756885e-04, 9.9962723e-01, 9.5248368e-05]], dtype=float32)"
      ]
     },
     "metadata": {},
     "execution_count": 181
    }
   ],
   "source": [
    "model.predict(X[:3])"
   ]
  },
  {
   "cell_type": "code",
   "execution_count": 182,
   "metadata": {},
   "outputs": [
    {
     "output_type": "execute_result",
     "data": {
      "text/plain": [
       "<tf.Tensor: shape=(3, 3), dtype=float32, numpy=\n",
       "array([[0., 1., 0.],\n",
       "       [0., 1., 0.],\n",
       "       [0., 1., 0.]], dtype=float32)>"
      ]
     },
     "metadata": {},
     "execution_count": 182
    }
   ],
   "source": [
    "Y[:3]"
   ]
  },
  {
   "cell_type": "code",
   "execution_count": 183,
   "metadata": {},
   "outputs": [
    {
     "output_type": "execute_result",
     "data": {
      "text/plain": [
       "['Thank you so much for stepping up your game and making my day after night of elevator music. Much appreciated.',\n",
       " 'thank you thank you! I finally set up the jetblue app! Yay!',\n",
       " 'great flight on a brand new jet. Great seating. Beautiful plane. Big fan of this airline.']"
      ]
     },
     "metadata": {},
     "execution_count": 183
    }
   ],
   "source": [
    "text[:3]"
   ]
  },
  {
   "cell_type": "code",
   "execution_count": null,
   "metadata": {},
   "outputs": [],
   "source": []
  }
 ]
}